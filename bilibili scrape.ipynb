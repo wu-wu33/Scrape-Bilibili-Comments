{
 "cells": [
  {
   "cell_type": "code",
   "id": "initial_id",
   "metadata": {
    "collapsed": true,
    "ExecuteTime": {
     "end_time": "2025-06-27T13:18:55.072818Z",
     "start_time": "2025-06-27T11:11:50.358221Z"
    }
   },
   "source": [
    "import time, json, csv, random, requests\n",
    "from urllib3.util import Retry\n",
    "from requests.adapters import HTTPAdapter\n",
    "\n",
    "# ★ 请替换 ↓\n",
    "BVID        = \"BV19sCpYTEWS\"\n",
    "HEADERS     = {\"User-Agent\": \"Mozilla/5.0 (Windows NT 10.0; Win64; x64) AppleWebKit/537.36 (KHTML, like Gecko) Chrome/137.0.0.0 Safari/537.36\"}\n",
    "COOKIES     = {\"SESSDATA\": \"b6df1a89%2C1765109083%2C0c1ed%2A61CjAi4m7i50EEYEWRzH9GCDTfLKL_5rzzxG6Yme_J5NWpwouLBa52JqZb2Vule9D4NGkSVjBXanNNNHdlMlp6b0lEMENFQjFZYXpsQlRYS2Nic29SZzc2bXNydUZpY21HVEkxb3hjNTJCVXpKcFFIYUNWRXVhZVFnUVNlekFXYndOSGs5OXpZckVRIIEC\", \"buvid3\": \"4C04BFED-22B8-1762-C192-4C6C3F97B92656278infoc\", \"bili_jct\": \"f7d79a1deb1a08fe33093722ed938286\"}\n",
    "\n",
    "session = requests.Session()\n",
    "session.headers.update(HEADERS)\n",
    "session.cookies.update(COOKIES)\n",
    "session.mount(\"https://\", HTTPAdapter(max_retries=Retry(total=5,\n",
    "                                                        backoff_factor=0.3,\n",
    "                                                        status_forcelist=[500, 502, 503, 504])))\n",
    "\n",
    "def get_level1(bvid, max_pages=2000, pause=1):\n",
    "    \"\"\"抓取 /x/v2/reply/main —— 一级评论\"\"\"\n",
    "    next_idx, all_rows = 0, []\n",
    "    for page in range(max_pages):\n",
    "        url = (\n",
    "            \"https://api.bilibili.com/x/v2/reply/main\"\n",
    "            f\"?next={next_idx}&type=1&mode=3&oid={bvid}\"\n",
    "        )\n",
    "        r = session.get(url, timeout=10).json()\n",
    "        replies = r[\"data\"].get(\"replies\") or []\n",
    "        if not replies:\n",
    "            break\n",
    "        # 记录\n",
    "        for c in replies:\n",
    "            all_rows.append(\n",
    "                {\n",
    "                    \"rpid\":      c[\"rpid\"],          # 后面要用来抓二级\n",
    "                    \"uname\":     c[\"member\"][\"uname\"],\n",
    "                    \"sex\":       c[\"member\"][\"sex\"],\n",
    "                    \"level\":     c[\"member\"][\"level_info\"][\"current_level\"],\n",
    "                    \"message\":   c[\"content\"][\"message\"],\n",
    "                    \"like\":      c[\"like\"],\n",
    "                    \"ctime\":     time.strftime(\"%Y-%m-%d %H:%M:%S\", time.localtime(c[\"ctime\"])),\n",
    "                }\n",
    "            )\n",
    "        # 翻页游标\n",
    "        next_idx = r[\"data\"][\"cursor\"][\"next\"]\n",
    "        time.sleep(pause + random.random())  # 防止触发风控\n",
    "    return all_rows\n",
    "\n",
    "def get_level2(bvid, root_rpid, max_pages=50, pause=1):\n",
    "    \"\"\"抓取 root_rpid 对应楼层的二级评论\"\"\"\n",
    "    for pn in range(1, max_pages + 1):\n",
    "        url = (\n",
    "            \"https://api.bilibili.com/x/v2/reply/reply\"\n",
    "            f\"?oid={bvid}&type=1&root={root_rpid}&ps=20&pn={pn}\"\n",
    "        )\n",
    "        r = session.get(url, timeout=10).json()\n",
    "        replies = (r[\"data\"] or {}).get(\"replies\") or []\n",
    "        if not replies:\n",
    "            break\n",
    "        for c in replies:\n",
    "            yield {\n",
    "                \"root\":      root_rpid,\n",
    "                \"uname\":     c[\"member\"][\"uname\"],\n",
    "                \"message\":   c[\"content\"][\"message\"],\n",
    "                \"like\":      c[\"like\"],\n",
    "                \"ctime\":     time.strftime(\"%Y-%m-%d %H:%M:%S\", time.localtime(c[\"ctime\"])),\n",
    "            }\n",
    "        time.sleep(pause + random.random())\n",
    "\n",
    "def crawl_all(bvid, out_csv=\"bilibili_comments2.csv\"):\n",
    "    lvl1 = get_level1(bvid)\n",
    "    with open(out_csv, \"w\", newline=\"\", encoding=\"utf-8-sig\") as f:\n",
    "        fieldnames = [\"层级\", \"root\", \"rpid\", \"uname\", \"sex\", \"level\", \"message\", \"like\", \"ctime\"]\n",
    "        writer = csv.DictWriter(f, fieldnames)\n",
    "        writer.writeheader()\n",
    "\n",
    "        # 一级\n",
    "        for row in lvl1:\n",
    "            row[\"层级\"] = \"L1\"\n",
    "            row[\"root\"] = row[\"rpid\"]\n",
    "            writer.writerow(row)\n",
    "\n",
    "            # 二级\n",
    "            for sub in get_level2(bvid, row[\"rpid\"]):\n",
    "                sub.update({\"层级\": \"L2\"})\n",
    "                writer.writerow(sub)\n",
    "\n",
    "    print(f\"✅ 完成！共抓一级 {len(lvl1)} 楼，文件已保存 {out_csv}\")\n",
    "\n",
    "if __name__ == \"__main__\":\n",
    "    crawl_all(BVID)"
   ],
   "outputs": [
    {
     "name": "stdout",
     "output_type": "stream",
     "text": [
      "✅ 完成！共抓一级 7347 楼，文件已保存 bilibili_comments2.csv\n"
     ]
    }
   ],
   "execution_count": 1
  }
 ],
 "metadata": {
  "kernelspec": {
   "display_name": "Python 3",
   "language": "python",
   "name": "python3"
  },
  "language_info": {
   "codemirror_mode": {
    "name": "ipython",
    "version": 2
   },
   "file_extension": ".py",
   "mimetype": "text/x-python",
   "name": "python",
   "nbconvert_exporter": "python",
   "pygments_lexer": "ipython2",
   "version": "2.7.6"
  }
 },
 "nbformat": 4,
 "nbformat_minor": 5
}
